{
 "cells": [
  {
   "cell_type": "code",
   "execution_count": 28,
   "metadata": {},
   "outputs": [],
   "source": [
    "#This program predicts stock prices by using machine learning models\n",
    "\n",
    "#import packages\n",
    "import quandl\n",
    "import numpy as np\n",
    "from sklearn.linear_model import LinearRegression #machine learning package\n",
    "from sklearn.svm import SVR #machine learning package\n",
    "from sklearn.model_selection import train_test_split #ml package to model data\n"
   ]
  },
  {
   "cell_type": "code",
   "execution_count": 29,
   "metadata": {},
   "outputs": [
    {
     "name": "stdout",
     "output_type": "stream",
     "text": [
      "             Open   High    Low  Close     Volume  Ex-Dividend  Split Ratio  \\\n",
      "Date                                                                          \n",
      "1980-12-12  28.75  28.87  28.75  28.75  2093900.0          0.0          1.0   \n",
      "1980-12-15  27.38  27.38  27.25  27.25   785200.0          0.0          1.0   \n",
      "1980-12-16  25.37  25.37  25.25  25.25   472000.0          0.0          1.0   \n",
      "1980-12-17  25.87  26.00  25.87  25.87   385900.0          0.0          1.0   \n",
      "1980-12-18  26.63  26.75  26.63  26.63   327900.0          0.0          1.0   \n",
      "\n",
      "            Adj. Open  Adj. High  Adj. Low  Adj. Close  Adj. Volume  \n",
      "Date                                                                 \n",
      "1980-12-12   0.422706   0.424470  0.422706    0.422706  117258400.0  \n",
      "1980-12-15   0.402563   0.402563  0.400652    0.400652   43971200.0  \n",
      "1980-12-16   0.373010   0.373010  0.371246    0.371246   26432000.0  \n",
      "1980-12-17   0.380362   0.382273  0.380362    0.380362   21610400.0  \n",
      "1980-12-18   0.391536   0.393300  0.391536    0.391536   18362400.0  \n"
     ]
    }
   ],
   "source": [
    "# First Step: Get Stock Data\n",
    "df = quandl.get('WIKI/AAPL')\n",
    "\n",
    "#print data\n",
    "print(df.head())"
   ]
  },
  {
   "cell_type": "code",
   "execution_count": 30,
   "metadata": {},
   "outputs": [
    {
     "name": "stdout",
     "output_type": "stream",
     "text": [
      "            Adj. Close\n",
      "Date                  \n",
      "1980-12-12    0.422706\n",
      "1980-12-15    0.400652\n",
      "1980-12-16    0.371246\n",
      "1980-12-17    0.380362\n",
      "1980-12-18    0.391536\n"
     ]
    }
   ],
   "source": [
    "#Print out Adjusted Close Column\n",
    "df = df[['Adj. Close']]\n",
    "print(df.head())"
   ]
  },
  {
   "cell_type": "code",
   "execution_count": 31,
   "metadata": {},
   "outputs": [
    {
     "name": "stdout",
     "output_type": "stream",
     "text": [
      "            Adj. Close  Forecast\n",
      "Date                            \n",
      "2018-03-21     171.270       NaN\n",
      "2018-03-22     168.845       NaN\n",
      "2018-03-23     164.940       NaN\n",
      "2018-03-26     172.770       NaN\n",
      "2018-03-27     168.340       NaN\n"
     ]
    }
   ],
   "source": [
    "#This variable is for predicting n days of stock data\n",
    "forecastOutput = 30 #30 day forecast\n",
    "\n",
    "#Create another column that is the target or dependent variable and shifted up n units\n",
    "df['Forecast'] = df[['Adj. Close']].shift(-forecastOutput) #-1 tells code to shift up 1 day from Adj. Close column\n",
    "print(df.tail())"
   ]
  },
  {
   "cell_type": "code",
   "execution_count": 32,
   "metadata": {},
   "outputs": [
    {
     "name": "stdout",
     "output_type": "stream",
     "text": [
      "[[  0.42270592]\n",
      " [  0.40065169]\n",
      " [  0.37124607]\n",
      " ...\n",
      " [155.32      ]\n",
      " [155.97      ]\n",
      " [162.71      ]]\n"
     ]
    }
   ],
   "source": [
    "#Create the independent data set x\n",
    "#Covert data frame to numpy array\n",
    "x = np.array(df.drop(['Forecast'], 1))\n",
    "\n",
    "#remove the last n rows\n",
    "x = x[:-forecastOutput] #every column will show all data except last n rows\n",
    "print(x)"
   ]
  },
  {
   "cell_type": "code",
   "execution_count": 33,
   "metadata": {},
   "outputs": [
    {
     "name": "stdout",
     "output_type": "stream",
     "text": [
      "[  0.47049006   0.45578725   0.43917307 ... 164.94       172.77\n",
      " 168.34      ]\n"
     ]
    }
   ],
   "source": [
    "#Create the dependent data set y\n",
    "#Convert the data frame to numpy array \n",
    "#Give all the values including NaN\n",
    "\n",
    "y = np.array(df['Forecast'])\n",
    "#Get all the y values except the last n rows\n",
    "y = y[:-forecastOutput]\n",
    "print(y)"
   ]
  },
  {
   "cell_type": "code",
   "execution_count": 34,
   "metadata": {},
   "outputs": [],
   "source": [
    "#Split data into 80% training and 20% testing\n",
    "x_train, x_test, y_train, y_test = train_test_split(x, y, test_size=0.2)"
   ]
  },
  {
   "cell_type": "code",
   "execution_count": 35,
   "metadata": {},
   "outputs": [
    {
     "data": {
      "text/plain": [
       "SVR(C=1000.0, cache_size=200, coef0=0.0, degree=3, epsilon=0.1, gamma=0.1,\n",
       "    kernel='rbf', max_iter=-1, shrinking=True, tol=0.001, verbose=False)"
      ]
     },
     "execution_count": 35,
     "metadata": {},
     "output_type": "execute_result"
    }
   ],
   "source": [
    "#Create and train our model using Support Vector Regressor\n",
    "svr_rbf = SVR(kernel = 'rbf', C=1e3, gamma=0.1)\n",
    "svr_rbf.fit(x_train, y_train)"
   ]
  },
  {
   "cell_type": "code",
   "execution_count": 36,
   "metadata": {},
   "outputs": [
    {
     "name": "stdout",
     "output_type": "stream",
     "text": [
      "SVM Confidence =  0.9918808560930717\n"
     ]
    }
   ],
   "source": [
    "#Testing Model using score that returns coefficient of determination of r squared of forecast\n",
    "svm_confidence = svr_rbf.score(x_test, y_test)\n",
    "print('SVM Confidence = ', svm_confidence)"
   ]
  },
  {
   "cell_type": "code",
   "execution_count": 37,
   "metadata": {},
   "outputs": [
    {
     "data": {
      "text/plain": [
       "LinearRegression(copy_X=True, fit_intercept=True, n_jobs=None, normalize=False)"
      ]
     },
     "execution_count": 37,
     "metadata": {},
     "output_type": "execute_result"
    }
   ],
   "source": [
    "#Create and train linear regression model \n",
    "regression = LinearRegression()\n",
    "#Train model\n",
    "regression.fit(x_train, y_train)"
   ]
  },
  {
   "cell_type": "code",
   "execution_count": 38,
   "metadata": {},
   "outputs": [
    {
     "name": "stdout",
     "output_type": "stream",
     "text": [
      "Linear Regression Confidence =  0.9920299750423733\n"
     ]
    }
   ],
   "source": [
    "#Test Linear Regression Model\n",
    "regression_confidence = regression.score(x_test, y_test)\n",
    "print('Linear Regression Confidence = ', regression_confidence)"
   ]
  },
  {
   "cell_type": "code",
   "execution_count": 39,
   "metadata": {},
   "outputs": [
    {
     "name": "stdout",
     "output_type": "stream",
     "text": [
      "[[164.34 ]\n",
      " [167.37 ]\n",
      " [172.99 ]\n",
      " [172.43 ]\n",
      " [171.85 ]\n",
      " [171.07 ]\n",
      " [172.6  ]\n",
      " [175.555]\n",
      " [178.97 ]\n",
      " [178.39 ]\n",
      " [178.12 ]\n",
      " [175.   ]\n",
      " [176.21 ]\n",
      " [176.82 ]\n",
      " [176.67 ]\n",
      " [175.03 ]\n",
      " [176.94 ]\n",
      " [179.98 ]\n",
      " [181.72 ]\n",
      " [179.97 ]\n",
      " [178.44 ]\n",
      " [178.65 ]\n",
      " [178.02 ]\n",
      " [175.3  ]\n",
      " [175.24 ]\n",
      " [171.27 ]\n",
      " [168.845]\n",
      " [164.94 ]\n",
      " [172.77 ]\n",
      " [168.34 ]]\n"
     ]
    }
   ],
   "source": [
    "#Set a variable equal to last 30 rows of original data set of Adj. Close column\n",
    "x_forecast = np.array(df.drop(['Forecast'],1))[-forecastOutput:] #output the last 30 rows of Adj. Close column\n",
    "print(x_forecast)\n"
   ]
  },
  {
   "cell_type": "code",
   "execution_count": 40,
   "metadata": {},
   "outputs": [
    {
     "name": "stdout",
     "output_type": "stream",
     "text": [
      "[160.3537759  175.84050467 172.31586527 171.9767077  171.5064516\n",
      " 171.3241875  172.10430229 174.19774122 175.48721883 177.02928709\n",
      " 177.30739201 173.15684279 175.61812584 176.68377668 176.46095773\n",
      " 173.20319735 176.84150329 167.64111078 136.72834486 167.75960961\n",
      " 176.952798   176.52783778 177.36116259 173.67700425 173.56363409\n",
      " 171.28395909 175.36429178 162.13189412 172.21234072 176.29231188]\n",
      "[167.90542854 170.99879667 176.73633095 176.16461935 175.57248947\n",
      " 174.77617689 176.33817465 179.35497426 182.84139412 182.24926424\n",
      " 181.97361758 178.78836723 180.02367265 180.64642993 180.4932929\n",
      " 178.81899464 180.76893956 183.87251682 185.64890644 183.86230769\n",
      " 182.30030992 182.51470177 181.87152622 179.0946413  179.03338649\n",
      " 174.9803596  172.50464419 168.51797668 176.51172996 171.98908283]\n"
     ]
    }
   ],
   "source": [
    "#Print predictions for next n days \n",
    "svr_predict = svr_rbf.predict(x_forecast)\n",
    "print(svr_predict)\n",
    "\n",
    "regression_predict = regression.predict(x_forecast)\n",
    "print(regression_predict)"
   ]
  },
  {
   "cell_type": "code",
   "execution_count": null,
   "metadata": {},
   "outputs": [],
   "source": []
  }
 ],
 "metadata": {
  "kernelspec": {
   "display_name": "Python 3",
   "language": "python",
   "name": "python3"
  },
  "language_info": {
   "codemirror_mode": {
    "name": "ipython",
    "version": 3
   },
   "file_extension": ".py",
   "mimetype": "text/x-python",
   "name": "python",
   "nbconvert_exporter": "python",
   "pygments_lexer": "ipython3",
   "version": "3.7.6"
  }
 },
 "nbformat": 4,
 "nbformat_minor": 4
}
